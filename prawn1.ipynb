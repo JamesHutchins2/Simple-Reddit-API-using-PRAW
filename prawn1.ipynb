{
 "cells": [
  {
   "cell_type": "markdown",
   "metadata": {},
   "source": [
    "<h1>Simple reddit API call using PRAW</h1>"
   ]
  },
  {
   "cell_type": "code",
   "execution_count": 1,
   "metadata": {},
   "outputs": [],
   "source": [
    "#import python reddit api wrapper\n",
    "import praw\n",
    "import pandas as pd"
   ]
  },
  {
   "cell_type": "code",
   "execution_count": 2,
   "metadata": {},
   "outputs": [],
   "source": [
    "#create an instance of the reddit class\n",
    "#here one would paste in the client id, client secret, username, and password\n",
    "reddit = praw.Reddit(client_id='info',\n",
    "                        client_secret='info',\n",
    "                        username='info',\n",
    "                        password='info',\n",
    "                        user_agent='info')"
   ]
  },
  {
   "cell_type": "code",
   "execution_count": 3,
   "metadata": {},
   "outputs": [],
   "source": [
    "#define a subreddit to search\n",
    "subreddit = reddit.subreddit('wallstreetbets')\n",
    "#use the hot signifier to return the top 5 posts\n",
    "hot_python = subreddit.hot(limit = 5)"
   ]
  },
  {
   "cell_type": "code",
   "execution_count": 4,
   "metadata": {},
   "outputs": [],
   "source": [
    "#calls the top 5 hotest posts\n",
    "hot_python = subreddit.hot(limit = 5)\n",
    "#create arrays to hold the data\n",
    "title = []\n",
    "PostID = []\n",
    "timeCreated = []\n",
    "comments = []\n",
    "#for each of the top posts\n",
    "for submission in hot_python:\n",
    "    #get time created\n",
    "    timeCreated.append(submission.created_utc)\n",
    "    #get post ID\n",
    "    PostID.append(submission.id)\n",
    "    #get post title\n",
    "    title.append(submission.title)\n",
    "    #get each post's comments\n",
    "    for comment in submission.comments:\n",
    "        if submission.comments is not None:\n",
    "            submission.comments.replace_more(limit=0)\n",
    "            comments.append(comment.body)\n",
    "            \n",
    "   "
   ]
  },
  {
   "cell_type": "code",
   "execution_count": 5,
   "metadata": {},
   "outputs": [],
   "source": [
    "\n",
    "#pass data sets to data frames \n",
    "df = pd.DataFrame({'PostID':PostID, 'Title':title, 'TimeCreated':timeCreated})\n",
    "commentsdf = pd.DataFrame({'Comments':comments})\n",
    "    "
   ]
  },
  {
   "cell_type": "code",
   "execution_count": 7,
   "metadata": {},
   "outputs": [
    {
     "data": {
      "text/html": [
       "<div>\n",
       "<style scoped>\n",
       "    .dataframe tbody tr th:only-of-type {\n",
       "        vertical-align: middle;\n",
       "    }\n",
       "\n",
       "    .dataframe tbody tr th {\n",
       "        vertical-align: top;\n",
       "    }\n",
       "\n",
       "    .dataframe thead th {\n",
       "        text-align: right;\n",
       "    }\n",
       "</style>\n",
       "<table border=\"1\" class=\"dataframe\">\n",
       "  <thead>\n",
       "    <tr style=\"text-align: right;\">\n",
       "      <th></th>\n",
       "      <th>Comments</th>\n",
       "    </tr>\n",
       "  </thead>\n",
       "  <tbody>\n",
       "    <tr>\n",
       "      <th>0</th>\n",
       "      <td>TSLA is down 45% in 2 months.  🤣</td>\n",
       "    </tr>\n",
       "    <tr>\n",
       "      <th>1</th>\n",
       "      <td>It was really really painful selling my $COIN ...</td>\n",
       "    </tr>\n",
       "    <tr>\n",
       "      <th>2</th>\n",
       "      <td>LOL at all the athletes who requested to get p...</td>\n",
       "    </tr>\n",
       "    <tr>\n",
       "      <th>3</th>\n",
       "      <td>&gt;RIP Binance.\\n\\&gt;It’s not dead or anything. I’...</td>\n",
       "    </tr>\n",
       "    <tr>\n",
       "      <th>4</th>\n",
       "      <td>Went out of my way to save 10$ in gas yesterda...</td>\n",
       "    </tr>\n",
       "  </tbody>\n",
       "</table>\n",
       "</div>"
      ],
      "text/plain": [
       "                                            Comments\n",
       "0                   TSLA is down 45% in 2 months.  🤣\n",
       "1  It was really really painful selling my $COIN ...\n",
       "2  LOL at all the athletes who requested to get p...\n",
       "3  >RIP Binance.\\n\\>It’s not dead or anything. I’...\n",
       "4  Went out of my way to save 10$ in gas yesterda..."
      ]
     },
     "execution_count": 7,
     "metadata": {},
     "output_type": "execute_result"
    }
   ],
   "source": [
    "commentsdf.head()"
   ]
  },
  {
   "cell_type": "markdown",
   "metadata": {},
   "source": [
    "<h1>Data Formating</h1>"
   ]
  },
  {
   "cell_type": "code",
   "execution_count": 10,
   "metadata": {},
   "outputs": [
    {
     "data": {
      "text/html": [
       "<div>\n",
       "<style scoped>\n",
       "    .dataframe tbody tr th:only-of-type {\n",
       "        vertical-align: middle;\n",
       "    }\n",
       "\n",
       "    .dataframe tbody tr th {\n",
       "        vertical-align: top;\n",
       "    }\n",
       "\n",
       "    .dataframe thead th {\n",
       "        text-align: right;\n",
       "    }\n",
       "</style>\n",
       "<table border=\"1\" class=\"dataframe\">\n",
       "  <thead>\n",
       "    <tr style=\"text-align: right;\">\n",
       "      <th></th>\n",
       "      <th>Comments</th>\n",
       "    </tr>\n",
       "  </thead>\n",
       "  <tbody>\n",
       "    <tr>\n",
       "      <th>0</th>\n",
       "      <td>[TSLA, is, down, 45%, in, 2, months., , 🤣]</td>\n",
       "    </tr>\n",
       "    <tr>\n",
       "      <th>1</th>\n",
       "      <td>[It, was, really, really, painful, selling, my...</td>\n",
       "    </tr>\n",
       "    <tr>\n",
       "      <th>2</th>\n",
       "      <td>[LOL, at, all, the, athletes, who, requested, ...</td>\n",
       "    </tr>\n",
       "    <tr>\n",
       "      <th>3</th>\n",
       "      <td>[&gt;RIP, Binance., \\&gt;It’s, not, dead, or, anythi...</td>\n",
       "    </tr>\n",
       "    <tr>\n",
       "      <th>4</th>\n",
       "      <td>[Went, out, of, my, way, to, save, 10$, in, ga...</td>\n",
       "    </tr>\n",
       "  </tbody>\n",
       "</table>\n",
       "</div>"
      ],
      "text/plain": [
       "                                            Comments\n",
       "0         [TSLA, is, down, 45%, in, 2, months., , 🤣]\n",
       "1  [It, was, really, really, painful, selling, my...\n",
       "2  [LOL, at, all, the, athletes, who, requested, ...\n",
       "3  [>RIP, Binance., \\>It’s, not, dead, or, anythi...\n",
       "4  [Went, out, of, my, way, to, save, 10$, in, ga..."
      ]
     },
     "execution_count": 10,
     "metadata": {},
     "output_type": "execute_result"
    }
   ],
   "source": [
    "#make all the comments into individual arrays of the words in them split by spaces\n",
    "commentsdf['Comments'] = commentsdf['Comments'].str.split(' ')\n",
    "commentsdf.head()"
   ]
  },
  {
   "cell_type": "code",
   "execution_count": 11,
   "metadata": {},
   "outputs": [
    {
     "data": {
      "text/plain": [
       "['TSLA', 'is', 'down', '45%', 'in', '2', 'months.', '', '🤣']"
      ]
     },
     "execution_count": 11,
     "metadata": {},
     "output_type": "execute_result"
    }
   ],
   "source": [
    "#verrify that the comments are now split into arrays of words\n",
    "commentsdf['Comments'][0]"
   ]
  },
  {
   "cell_type": "markdown",
   "metadata": {},
   "source": [
    "From this we can see the clear opertunity to apply a bag or words models that also looks for tickers, industry names etc. in the array of words. "
   ]
  },
  {
   "cell_type": "markdown",
   "metadata": {},
   "source": [
    "I think it could be fruitful to enable emojis in a bag of words model, this is something that could be expolored. "
   ]
  }
 ],
 "metadata": {
  "kernelspec": {
   "display_name": "Python 3.9.13 ('venv': venv)",
   "language": "python",
   "name": "python3"
  },
  "language_info": {
   "codemirror_mode": {
    "name": "ipython",
    "version": 3
   },
   "file_extension": ".py",
   "mimetype": "text/x-python",
   "name": "python",
   "nbconvert_exporter": "python",
   "pygments_lexer": "ipython3",
   "version": "3.9.13"
  },
  "orig_nbformat": 4,
  "vscode": {
   "interpreter": {
    "hash": "9eee890dbbaa2c909bec1e594f11214ca5f0a54efd6e55823de8049bd892dce8"
   }
  }
 },
 "nbformat": 4,
 "nbformat_minor": 2
}
